{
 "cells": [
  {
   "cell_type": "code",
   "execution_count": 1,
   "id": "9291a09a-68a4-4061-afdf-dda754441547",
   "metadata": {},
   "outputs": [],
   "source": [
    "def subtraction(n1,n2):\n",
    "    return n1-n2"
   ]
  },
  {
   "cell_type": "code",
   "execution_count": 2,
   "id": "28618ee6-7dd2-41f4-80dd-5f8a11f3614f",
   "metadata": {},
   "outputs": [],
   "source": [
    "def multiply(n1,n2):\n",
    "    return n1*n4"
   ]
  },
  {
   "cell_type": "code",
   "execution_count": 3,
   "id": "4ca063f0-851f-4fa5-8911-57afa89a4961",
   "metadata": {},
   "outputs": [],
   "source": [
    "def divide(n1, n2):\n",
    "    try:\n",
    "        return n1 / n2\n",
    "    except ZeroDivisionError:\n",
    "        return \"Error: Division by zero is not allowed.\""
   ]
  },
  {
   "cell_type": "code",
   "execution_count": 4,
   "id": "ffe1c087-cd46-4328-927c-32cb625530f7",
   "metadata": {},
   "outputs": [
    {
     "name": "stdout",
     "output_type": "stream",
     "text": [
      "Select Operations\n",
      "1. Addition\n",
      "2. Subtraction\n",
      "3. Multiplication\n",
      "4. Division\n",
      "\n"
     ]
    }
   ],
   "source": [
    "print(\"Select Operations\")\n",
    "print(\n",
    "    \"1. Addition\\n\"\n",
    "    \"2. Subtraction\\n\"\n",
    "    \"3. Multiplication\\n\"\n",
    "    \"4. Division\\n\")"
   ]
  },
  {
   "cell_type": "code",
   "execution_count": 4,
   "id": "6e6ae105-ea0f-418e-8bbd-b7f90394e12c",
   "metadata": {},
   "outputs": [
    {
     "name": "stdin",
     "output_type": "stream",
     "text": [
      "Enter operation 1/2/3/4:  4\n",
      "Enter n1:  2\n",
      "Enter n2:  0\n"
     ]
    },
    {
     "name": "stdout",
     "output_type": "stream",
     "text": [
      "Error: Division by zero is not allowed.\n"
     ]
    }
   ],
   "source": [
    "try:\n",
    "    select = int(input(\"Enter operation 1/2/3/4: \"))\n",
    "    if select not in [1, 2, 3, 4]:\n",
    "        raise ValueError(\"Invalid operation selected.\")\n",
    "    \n",
    "    n1 = int(input(\"Enter n1: \"))\n",
    "    n2 = int(input(\"Enter n2: \"))\n",
    "\n",
    "    if select == 1:\n",
    "        print(sum(n1, n2))\n",
    "    elif select == 2:\n",
    "        print(subtraction(n1, n2))\n",
    "    elif select == 3:\n",
    "        print(multiply(n1, n2))\n",
    "    elif select == 4:\n",
    "        print(divide(n1, n2))\n",
    "except ValueError as e:\n",
    "    print(f\"Error: {e}\")"
   ]
  },
  {
   "cell_type": "code",
   "execution_count": null,
   "id": "fb53ab35-f560-4f3a-a16b-c47bbc68a63f",
   "metadata": {},
   "outputs": [],
   "source": []
  }
 ],
 "metadata": {
  "kernelspec": {
   "display_name": "Python 3 (ipykernel)",
   "language": "python",
   "name": "python3"
  },
  "language_info": {
   "codemirror_mode": {
    "name": "ipython",
    "version": 3
   },
   "file_extension": ".py",
   "mimetype": "text/x-python",
   "name": "python",
   "nbconvert_exporter": "python",
   "pygments_lexer": "ipython3",
   "version": "3.12.1"
  }
 },
 "nbformat": 4,
 "nbformat_minor": 5
}
