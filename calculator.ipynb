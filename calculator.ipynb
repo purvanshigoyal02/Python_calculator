{
 "cells": [
  {
   "cell_type": "code",
   "execution_count": 1,
   "id": "9291a09a-68a4-4061-afdf-dda754441547",
   "metadata": {},
   "outputs": [],
   "source": [
    "def subtraction(n1,n2):\n",
    "    return n1-n2"
   ]
  },
  {
   "cell_type": "code",
   "execution_count": 2,
   "id": "28618ee6-7dd2-41f4-80dd-5f8a11f3614f",
   "metadata": {},
   "outputs": [],
   "source": [
    "def multiply(n1,n2):\n",
    "    return n1*n4"
   ]
  },
  {
   "cell_type": "code",
   "execution_count": 3,
   "id": "4ca063f0-851f-4fa5-8911-57afa89a4961",
   "metadata": {},
   "outputs": [],
   "source": [
    "def divide(n1,n2):\n",
    "    return n1/n2"
   ]
  },
  {
   "cell_type": "code",
   "execution_count": 4,
   "id": "ffe1c087-cd46-4328-927c-32cb625530f7",
   "metadata": {},
   "outputs": [
    {
     "name": "stdout",
     "output_type": "stream",
     "text": [
      "Select Operations\n",
      "1. Addition\n",
      "2. Subtraction\n",
      "3. Multiplication\n",
      "4. Division\n",
      "\n"
     ]
    }
   ],
   "source": [
    "print(\"Select Operations\")\n",
    "print(\n",
    "    \"1. Addition\\n\"\n",
    "    \"2. Subtraction\\n\"\n",
    "    \"3. Multiplication\\n\"\n",
    "    \"4. Division\\n\")"
   ]
  },
  {
   "cell_type": "code",
   "execution_count": 5,
   "id": "2d121a44-cee0-4907-95d6-dac64d72f397",
   "metadata": {},
   "outputs": [
    {
     "name": "stdin",
     "output_type": "stream",
     "text": [
      "Enter operation 1/2/3/4:  2\n"
     ]
    }
   ],
   "source": [
    "select = int(input(\"Enter operation 1/2/3/4: \"))"
   ]
  },
  {
   "cell_type": "code",
   "execution_count": 6,
   "id": "9fbd68aa-71e0-4b8b-9e48-db1a258a39be",
   "metadata": {},
   "outputs": [
    {
     "name": "stdin",
     "output_type": "stream",
     "text": [
      "enter n1:  34\n",
      "enter n2:  43\n"
     ]
    }
   ],
   "source": [
    "n1=int(input(\"enter n1: \"))\n",
    "n2=int(input(\"enter n2: \"))"
   ]
  },
  {
   "cell_type": "code",
   "execution_count": 7,
   "id": "23065ad9-388e-4611-8f69-39a06e487aaf",
   "metadata": {},
   "outputs": [
    {
     "name": "stdout",
     "output_type": "stream",
     "text": [
      "-9\n"
     ]
    }
   ],
   "source": [
    "if(select == 1):\n",
    "    print(sum(n1,n2))\n",
    "elif(select == 2):\n",
    "    print(subtraction(n1,n2))\n",
    "elif(select == 3):\n",
    "    print(multiply(n1,n2))\n",
    "else:\n",
    "    print(divide(n1,n2))"
   ]
  },
  {
   "cell_type": "code",
   "execution_count": null,
   "id": "6e6ae105-ea0f-418e-8bbd-b7f90394e12c",
   "metadata": {},
   "outputs": [],
   "source": []
  }
 ],
 "metadata": {
  "kernelspec": {
   "display_name": "Python 3 (ipykernel)",
   "language": "python",
   "name": "python3"
  },
  "language_info": {
   "codemirror_mode": {
    "name": "ipython",
    "version": 3
   },
   "file_extension": ".py",
   "mimetype": "text/x-python",
   "name": "python",
   "nbconvert_exporter": "python",
   "pygments_lexer": "ipython3",
   "version": "3.12.1"
  }
 },
 "nbformat": 4,
 "nbformat_minor": 5
}
